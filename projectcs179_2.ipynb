{
  "cells": [
    {
      "cell_type": "code",
      "execution_count": 7,
      "metadata": {
        "colab": {
          "base_uri": "https://localhost:8080/"
        },
        "id": "wvXkyADj5j1G",
        "outputId": "bebcbe69-cc25-4cb2-9826-ee5d714ec302"
      },
      "outputs": [
        {
          "output_type": "stream",
          "name": "stdout",
          "text": [
            "--2025-05-14 22:06:50--  http://cicresearch.ca/CICDataset/CIC-IDS-2017/Dataset/CIC-IDS-2017/CSVs/MachineLearningCSV.zip\n",
            "Resolving cicresearch.ca (cicresearch.ca)... 205.174.165.80\n",
            "Connecting to cicresearch.ca (cicresearch.ca)|205.174.165.80|:80... connected.\n",
            "HTTP request sent, awaiting response... 200 OK\n",
            "Length: 235102953 (224M) [application/zip]\n",
            "Saving to: ‘MachineLearningCSV.zip’\n",
            "\n",
            "MachineLearningCSV. 100%[===================>] 224.21M  7.75MB/s    in 31s     \n",
            "\n",
            "2025-05-14 22:07:22 (7.17 MB/s) - ‘MachineLearningCSV.zip’ saved [235102953/235102953]\n",
            "\n"
          ]
        }
      ],
      "source": [
        "!wget http://cicresearch.ca/CICDataset/CIC-IDS-2017/Dataset/CIC-IDS-2017/CSVs/MachineLearningCSV.zip"
      ]
    },
    {
      "cell_type": "code",
      "execution_count": 8,
      "metadata": {
        "colab": {
          "base_uri": "https://localhost:8080/"
        },
        "id": "ne2-aenF5r-s",
        "outputId": "9f4f2b61-5f4f-4bff-9333-d44dd78d664a"
      },
      "outputs": [
        {
          "output_type": "stream",
          "name": "stdout",
          "text": [
            "Archive:  MachineLearningCSV.zip\n",
            "   creating: MachineLearningCVE/\n",
            "  inflating: MachineLearningCVE/Wednesday-workingHours.pcap_ISCX.csv  \n",
            "  inflating: MachineLearningCVE/Tuesday-WorkingHours.pcap_ISCX.csv  \n",
            "  inflating: MachineLearningCVE/Thursday-WorkingHours-Morning-WebAttacks.pcap_ISCX.csv  \n",
            "  inflating: MachineLearningCVE/Thursday-WorkingHours-Afternoon-Infilteration.pcap_ISCX.csv  \n",
            "  inflating: MachineLearningCVE/Monday-WorkingHours.pcap_ISCX.csv  \n",
            "  inflating: MachineLearningCVE/Friday-WorkingHours-Morning.pcap_ISCX.csv  \n",
            "  inflating: MachineLearningCVE/Friday-WorkingHours-Afternoon-PortScan.pcap_ISCX.csv  \n",
            "  inflating: MachineLearningCVE/Friday-WorkingHours-Afternoon-DDos.pcap_ISCX.csv  \n"
          ]
        }
      ],
      "source": [
        "!unzip MachineLearningCSV.zip"
      ]
    },
    {
      "cell_type": "code",
      "execution_count": 1,
      "metadata": {
        "id": "Iq9jiq5r5PLm"
      },
      "outputs": [],
      "source": [
        "import torch\n",
        "import torch.nn as nn\n",
        "import torch.optim as optim\n",
        "import pandas as pd\n",
        "import numpy as np\n",
        "import glob\n",
        "import matplotlib.pyplot as plt\n",
        "from sklearn.model_selection import train_test_split\n",
        "from sklearn.preprocessing import LabelEncoder, StandardScaler, MinMaxScaler\n",
        "from imblearn.over_sampling import SMOTE\n",
        "from imblearn.under_sampling import RandomUnderSampler\n",
        "from imblearn.pipeline import Pipeline\n",
        "from torch.utils.data import DataLoader, TensorDataset\n",
        "import torch.nn.functional as F"
      ]
    },
    {
      "cell_type": "code",
      "execution_count": 2,
      "metadata": {
        "id": "d8aEQBNg5VuN"
      },
      "outputs": [],
      "source": [
        "# Check for GPU availability\n",
        "device = torch.device(\"cuda\" if torch.cuda.is_available() else \"cpu\")"
      ]
    },
    {
      "cell_type": "code",
      "execution_count": 3,
      "metadata": {
        "id": "90GrpPSJ5dYM"
      },
      "outputs": [],
      "source": [
        "# Load and merge all files\n",
        "all_files = glob.glob(\"MachineLearningCVE/*.csv\")\n",
        "dfs = []\n",
        "for file in all_files:\n",
        "    df = pd.read_csv(file)\n",
        "    df['Source_File'] = file.split('/')[-1]  # Track source file\n",
        "    dfs.append(df)\n",
        "\n",
        "merged_data = pd.concat(dfs, ignore_index=True)"
      ]
    },
    {
      "cell_type": "code",
      "execution_count": 4,
      "metadata": {
        "id": "7OmyjVgh6O87",
        "colab": {
          "base_uri": "https://localhost:8080/"
        },
        "outputId": "01baccbd-444e-48ea-f055-e8adb5912dbf"
      },
      "outputs": [
        {
          "output_type": "stream",
          "name": "stdout",
          "text": [
            "Index([' Destination Port', ' Flow Duration', ' Total Fwd Packets',\n",
            "       ' Total Backward Packets', 'Total Length of Fwd Packets',\n",
            "       ' Total Length of Bwd Packets', ' Fwd Packet Length Max',\n",
            "       ' Fwd Packet Length Min', ' Fwd Packet Length Mean',\n",
            "       ' Fwd Packet Length Std', 'Bwd Packet Length Max',\n",
            "       ' Bwd Packet Length Min', ' Bwd Packet Length Mean',\n",
            "       ' Bwd Packet Length Std', 'Flow Bytes/s', ' Flow Packets/s',\n",
            "       ' Flow IAT Mean', ' Flow IAT Std', ' Flow IAT Max', ' Flow IAT Min',\n",
            "       'Fwd IAT Total', ' Fwd IAT Mean', ' Fwd IAT Std', ' Fwd IAT Max',\n",
            "       ' Fwd IAT Min', 'Bwd IAT Total', ' Bwd IAT Mean', ' Bwd IAT Std',\n",
            "       ' Bwd IAT Max', ' Bwd IAT Min', 'Fwd PSH Flags', ' Bwd PSH Flags',\n",
            "       ' Fwd URG Flags', ' Bwd URG Flags', ' Fwd Header Length',\n",
            "       ' Bwd Header Length', 'Fwd Packets/s', ' Bwd Packets/s',\n",
            "       ' Min Packet Length', ' Max Packet Length', ' Packet Length Mean',\n",
            "       ' Packet Length Std', ' Packet Length Variance', 'FIN Flag Count',\n",
            "       ' SYN Flag Count', ' RST Flag Count', ' PSH Flag Count',\n",
            "       ' ACK Flag Count', ' URG Flag Count', ' CWE Flag Count',\n",
            "       ' ECE Flag Count', ' Down/Up Ratio', ' Average Packet Size',\n",
            "       ' Avg Fwd Segment Size', ' Avg Bwd Segment Size',\n",
            "       ' Fwd Header Length.1', 'Fwd Avg Bytes/Bulk', ' Fwd Avg Packets/Bulk',\n",
            "       ' Fwd Avg Bulk Rate', ' Bwd Avg Bytes/Bulk', ' Bwd Avg Packets/Bulk',\n",
            "       'Bwd Avg Bulk Rate', 'Subflow Fwd Packets', ' Subflow Fwd Bytes',\n",
            "       ' Subflow Bwd Packets', ' Subflow Bwd Bytes', 'Init_Win_bytes_forward',\n",
            "       ' Init_Win_bytes_backward', ' act_data_pkt_fwd',\n",
            "       ' min_seg_size_forward', 'Active Mean', ' Active Std', ' Active Max',\n",
            "       ' Active Min', 'Idle Mean', ' Idle Std', ' Idle Max', ' Idle Min',\n",
            "       ' Label', 'Source_File'],\n",
            "      dtype='object')\n"
          ]
        }
      ],
      "source": [
        "# Drop constant features (as per paper)\n",
        "constant_features = [' Fwd URG Flags', ' Bwd URG Flags', ' CWE Flag Count',\n",
        "    'Fwd Avg Bytes/Bulk', ' Fwd Avg Packets/Bulk', ' Fwd Avg Bulk Rate',\n",
        "    ' Bwd Avg Bytes/Bulk', ' Bwd Avg Packets/Bulk', 'Bwd Avg Bulk Rate',\n",
        "    ' Bwd PSH Flags']\n",
        "print(merged_data.columns)\n",
        "merged_data = merged_data.drop(columns=constant_features)\n",
        "\n",
        "# Clean data\n",
        "merged_data = merged_data.drop_duplicates()\n",
        "merged_data = merged_data.replace([np.inf, -np.inf], np.nan).dropna()"
      ]
    },
    {
      "cell_type": "code",
      "execution_count": 5,
      "metadata": {
        "id": "z8eIVXyU6nKc"
      },
      "outputs": [],
      "source": [
        "# --------------------------------------------------\n",
        "# 1. Attack Grouping (Based on Paper's Methodology)\n",
        "# --------------------------------------------------\n",
        "attack_mapping = {\n",
        "    # Benign\n",
        "    'BENIGN': 'Benign',\n",
        "\n",
        "    # Botnet ARES\n",
        "    'Bot': 'Botnet ARES',\n",
        "\n",
        "    # PortScan\n",
        "    'PortScan': 'PortScan',\n",
        "\n",
        "    # Brute Force Group\n",
        "    'FTP-Patator': 'Brute Force',\n",
        "    'SSH-Patator': 'Brute Force',\n",
        "    'Infiltration': 'Brute Force',  # Map infiltration to brute force\n",
        "\n",
        "    # Dos/DDoS Group\n",
        "    'DDoS': 'Dos/DDoS',\n",
        "    'DoS slowloris': 'Dos/DDoS',\n",
        "    'DoS Slowhttptest': 'Dos/DDoS',\n",
        "    'DoS Hulk': 'Dos/DDoS',\n",
        "    'DoS GoldenEye': 'Dos/DDoS',\n",
        "\n",
        "    # Web Attack Group\n",
        "    'Web Attack – Brute Force': 'Web Attack',\n",
        "    'Web Attack – XSS': 'Web Attack',\n",
        "    'Web Attack – Sql Injection': 'Web Attack',\n",
        "    'Heartbleed': 'Web Attack'  # Map heartbleed to web attacks\n",
        "}\n",
        "# Apply attack grouping\n",
        "merged_data[' Label'] = merged_data[' Label'].map(attack_mapping)\n",
        "\n",
        "# Remove any remaining unmapped attacks\n",
        "merged_data = merged_data.dropna(subset=[' Label'])\n",
        "\n",
        "# --------------------------------------------------\n",
        "# 2. Label Encoding (Maintain Paper's Class Order)\n",
        "# --------------------------------------------------\n",
        "class_order = ['Benign', 'Botnet ARES', 'Brute Force',\n",
        "              'Dos/DDoS', 'PortScan', 'Web Attack']\n",
        "\n",
        "le = LabelEncoder()\n",
        "le.fit(class_order)\n",
        "merged_data[' Label'] = le.transform(merged_data[' Label'])"
      ]
    },
    {
      "cell_type": "code",
      "execution_count": 6,
      "metadata": {
        "id": "9F5hExOh-fbF",
        "colab": {
          "base_uri": "https://localhost:8080/"
        },
        "outputId": "c9bcacf0-47bf-420d-970b-a0f956e6720c"
      },
      "outputs": [
        {
          "output_type": "stream",
          "name": "stdout",
          "text": [
            "Index([' Destination Port', ' Flow Duration', ' Total Fwd Packets',\n",
            "       ' Total Backward Packets', 'Total Length of Fwd Packets',\n",
            "       ' Total Length of Bwd Packets', ' Fwd Packet Length Max',\n",
            "       ' Fwd Packet Length Min', ' Fwd Packet Length Mean',\n",
            "       ' Fwd Packet Length Std', 'Bwd Packet Length Max',\n",
            "       ' Bwd Packet Length Min', ' Bwd Packet Length Mean',\n",
            "       ' Bwd Packet Length Std', 'Flow Bytes/s', ' Flow Packets/s',\n",
            "       ' Flow IAT Mean', ' Flow IAT Std', ' Flow IAT Max', ' Flow IAT Min',\n",
            "       'Fwd IAT Total', ' Fwd IAT Mean', ' Fwd IAT Std', ' Fwd IAT Max',\n",
            "       ' Fwd IAT Min', 'Bwd IAT Total', ' Bwd IAT Mean', ' Bwd IAT Std',\n",
            "       ' Bwd IAT Max', ' Bwd IAT Min', 'Fwd PSH Flags', ' Fwd Header Length',\n",
            "       ' Bwd Header Length', 'Fwd Packets/s', ' Bwd Packets/s',\n",
            "       ' Min Packet Length', ' Max Packet Length', ' Packet Length Mean',\n",
            "       ' Packet Length Std', ' Packet Length Variance', 'FIN Flag Count',\n",
            "       ' SYN Flag Count', ' RST Flag Count', ' PSH Flag Count',\n",
            "       ' ACK Flag Count', ' URG Flag Count', ' ECE Flag Count',\n",
            "       ' Down/Up Ratio', ' Average Packet Size', ' Avg Fwd Segment Size',\n",
            "       ' Avg Bwd Segment Size', ' Fwd Header Length.1', 'Subflow Fwd Packets',\n",
            "       ' Subflow Fwd Bytes', ' Subflow Bwd Packets', ' Subflow Bwd Bytes',\n",
            "       'Init_Win_bytes_forward', ' Init_Win_bytes_backward',\n",
            "       ' act_data_pkt_fwd', ' min_seg_size_forward', 'Active Mean',\n",
            "       ' Active Std', ' Active Max', ' Active Min', 'Idle Mean', ' Idle Std',\n",
            "       ' Idle Max', ' Idle Min', ' Label', 'Source_File'],\n",
            "      dtype='object')\n"
          ]
        }
      ],
      "source": [
        "print(merged_data.columns)"
      ]
    },
    {
      "cell_type": "code",
      "execution_count": 7,
      "metadata": {
        "id": "tD36Dg-a_sns"
      },
      "outputs": [],
      "source": [
        "# --------------------------------------------------\n",
        "# 3. Data Splitting (Stratified 80-20 Split)\n",
        "# --------------------------------------------------\n",
        "X = merged_data.drop(columns=[' Label', 'Source_File'])  # Features\n",
        "y = merged_data[' Label']  # Encoded labels\n",
        "\n",
        "X_train, X_test, y_train, y_test = train_test_split(\n",
        "    X, y,\n",
        "    test_size=0.2,\n",
        "    stratify=y,\n",
        "    random_state=42\n",
        ")"
      ]
    },
    {
      "cell_type": "code",
      "execution_count": 8,
      "metadata": {
        "id": "4hgYgMr6CgV8"
      },
      "outputs": [],
      "source": [
        "# --------------------------------------------------\n",
        "# 4. Resampling Pipeline (Paper's Approach)\n",
        "# --------------------------------------------------\n",
        "# Define sampling strategy based on paper's Table 2\n",
        "sampling_strategy = {\n",
        "    0: 1_628_430,  # Benign (undersample)\n",
        "    1: 1_577,       # Botnet ARES (oversample)\n",
        "    2: 7_000,       # Brute Force (oversample)\n",
        "    3: 250_000,     # Dos/DDoS\n",
        "    4: 45_000,      # PortScan\n",
        "    5: 1_754        # Web Attack (oversample)\n",
        "}\n",
        "\n",
        "resampler = Pipeline([\n",
        "    ('under', RandomUnderSampler(\n",
        "        sampling_strategy={4: sampling_strategy[4]},\n",
        "        random_state=42\n",
        "    )),\n",
        "    ('over', SMOTE(\n",
        "        sampling_strategy={\n",
        "            1: sampling_strategy[1],\n",
        "            5: sampling_strategy[5]\n",
        "        },\n",
        "        k_neighbors=5,\n",
        "        random_state=42\n",
        "    ))\n",
        "])\n",
        "\n",
        "# Apply resampling\n",
        "X_res, y_res = resampler.fit_resample(X_train, y_train)"
      ]
    },
    {
      "cell_type": "code",
      "execution_count": 9,
      "metadata": {
        "id": "7dgmHBAcDj9w",
        "colab": {
          "base_uri": "https://localhost:8080/"
        },
        "outputId": "9a86cba6-9a39-4b98-9b88-fdc52ae33659"
      },
      "outputs": [
        {
          "output_type": "stream",
          "name": "stdout",
          "text": [
            "\n",
            "Final Class Distribution:\n",
            "Benign (0): 1,717,519\n",
            "Botnet ARES (1): 1,577\n",
            "Brute Force (2): 7,349\n",
            "Dos/DDoS (3): 257,407\n",
            "PortScan (4): 45,000\n",
            "Web Attack (5): 1,754\n"
          ]
        }
      ],
      "source": [
        "# --------------------------------------------------\n",
        "# 5. Verify Class Distribution\n",
        "# --------------------------------------------------\n",
        "resampled_counts = pd.Series(y_res).value_counts().sort_index()\n",
        "print(\"\\nFinal Class Distribution:\")\n",
        "print(f\"Benign (0): {resampled_counts[0]:,}\")\n",
        "print(f\"Botnet ARES (1): {resampled_counts[1]:,}\")\n",
        "print(f\"Brute Force (2): {resampled_counts[2]:,}\")\n",
        "print(f\"Dos/DDoS (3): {resampled_counts[3]:,}\")\n",
        "print(f\"PortScan (4): {resampled_counts[4]:,}\")\n",
        "print(f\"Web Attack (5): {resampled_counts[5]:,}\")"
      ]
    },
    {
      "cell_type": "code",
      "execution_count": 10,
      "metadata": {
        "id": "I7lQQRQbESC4"
      },
      "outputs": [],
      "source": [
        "# Standardize features\n",
        "scaler = StandardScaler()\n",
        "X_res = scaler.fit_transform(X_res)\n",
        "X_test = scaler.transform(X_test)\n",
        "\n",
        "# --------------------------\n",
        "# 3. Convert to PyTorch Tensors\n",
        "# --------------------------\n",
        "train_dataset = TensorDataset(\n",
        "    torch.FloatTensor(X_res).to(device),\n",
        "    torch.LongTensor(y_res.to_numpy()).to(device)\n",
        ")\n",
        "\n",
        "test_dataset = TensorDataset(\n",
        "    torch.FloatTensor(X_test).to(device),\n",
        "    torch.LongTensor(y_test.to_numpy()).to(device)\n",
        ")\n",
        "\n",
        "batch_size = 1024\n",
        "train_loader = DataLoader(train_dataset, batch_size=batch_size, shuffle=True)\n",
        "test_loader = DataLoader(test_dataset, batch_size=batch_size)"
      ]
    },
    {
      "cell_type": "code",
      "execution_count": 11,
      "metadata": {
        "id": "ao_lsAD5GV3U"
      },
      "outputs": [],
      "source": [
        "class IDS_DNN(nn.Module):\n",
        "    def __init__(self, input_size, num_classes):\n",
        "        super(IDS_DNN, self).__init__()\n",
        "        self.layers = nn.Sequential(\n",
        "            nn.Linear(input_size, 128),\n",
        "            nn.ReLU(),\n",
        "\n",
        "            nn.Linear(128, 256),\n",
        "            nn.ReLU(),\n",
        "\n",
        "            nn.Linear(256, 128),\n",
        "            nn.ReLU(),\n",
        "\n",
        "            nn.Linear(128, 64),\n",
        "            nn.ReLU(),\n",
        "\n",
        "            nn.Linear(64, 32),\n",
        "            nn.ReLU(),\n",
        "\n",
        "            nn.Linear(32, 16),\n",
        "            nn.ReLU(),\n",
        "\n",
        "            nn.Linear(16, num_classes)\n",
        "        )\n",
        "\n",
        "    def forward(self, x):\n",
        "        return self.layers(x)\n",
        "\n",
        "\n",
        "model = IDS_DNN(input_size=X_res.shape[1], num_classes=len(le.classes_)).to(device)"
      ]
    },
    {
      "cell_type": "code",
      "execution_count": 12,
      "metadata": {
        "id": "GLPRh-lrbk93"
      },
      "outputs": [],
      "source": [
        "# Focal Loss Implementation\n",
        "class FocalLoss(nn.Module):\n",
        "    def __init__(self, weight=None, gamma=2.0):\n",
        "        super().__init__()\n",
        "        self.weight = weight\n",
        "        self.gamma = gamma\n",
        "\n",
        "    def forward(self, inputs, targets):\n",
        "        ce_loss = F.cross_entropy(inputs, targets, weight=self.weight, reduction='none')\n",
        "        pt = torch.exp(-ce_loss)\n",
        "        return torch.mean((1 - pt) ** self.gamma * ce_loss)"
      ]
    },
    {
      "cell_type": "code",
      "execution_count": 13,
      "metadata": {
        "id": "rO81P3YdHp7j",
        "colab": {
          "base_uri": "https://localhost:8080/",
          "height": 1000
        },
        "outputId": "02a717df-df88-4963-8d0e-55f57c4f9334"
      },
      "outputs": [
        {
          "output_type": "stream",
          "name": "stdout",
          "text": [
            "Epoch 1/15\n",
            "Train Loss: 0.1748 | Acc: 93.30%\n",
            "Test Loss: 0.0660 | Acc: 95.28%\n",
            "-------------------------\n",
            "Epoch 2/15\n",
            "Train Loss: 0.0655 | Acc: 95.55%\n",
            "Test Loss: 0.0629 | Acc: 94.40%\n",
            "-------------------------\n",
            "No improvement for 1/5 epochs\n",
            "Epoch 3/15\n",
            "Train Loss: 0.0541 | Acc: 96.03%\n",
            "Test Loss: 0.0631 | Acc: 97.63%\n",
            "-------------------------\n",
            "Epoch 4/15\n",
            "Train Loss: 0.0554 | Acc: 96.18%\n",
            "Test Loss: 0.0514 | Acc: 96.80%\n",
            "-------------------------\n",
            "No improvement for 1/5 epochs\n",
            "Epoch 5/15\n",
            "Train Loss: 0.0488 | Acc: 96.34%\n",
            "Test Loss: 0.0515 | Acc: 96.31%\n",
            "-------------------------\n",
            "Epoch 6/15\n",
            "Train Loss: 0.0454 | Acc: 96.62%\n",
            "Test Loss: 0.0469 | Acc: 97.28%\n",
            "-------------------------\n",
            "No improvement for 1/5 epochs\n",
            "Epoch 7/15\n",
            "Train Loss: 0.0462 | Acc: 96.69%\n",
            "Test Loss: 0.1112 | Acc: 94.72%\n",
            "-------------------------\n",
            "No improvement for 2/5 epochs\n",
            "Epoch 8/15\n",
            "Train Loss: 0.0459 | Acc: 96.62%\n",
            "Test Loss: 0.0479 | Acc: 96.96%\n",
            "-------------------------\n",
            "No improvement for 3/5 epochs\n",
            "Epoch 9/15\n",
            "Train Loss: 0.0436 | Acc: 96.89%\n",
            "Test Loss: 0.0549 | Acc: 95.62%\n",
            "-------------------------\n",
            "No improvement for 4/5 epochs\n",
            "Epoch 10/15\n",
            "Train Loss: 0.0377 | Acc: 97.19%\n",
            "Test Loss: 0.0584 | Acc: 97.81%\n",
            "-------------------------\n",
            "Epoch 11/15\n",
            "Train Loss: 0.0370 | Acc: 97.32%\n",
            "Test Loss: 0.0449 | Acc: 97.83%\n",
            "-------------------------\n",
            "Epoch 12/15\n",
            "Train Loss: 0.0363 | Acc: 97.41%\n",
            "Test Loss: 0.0427 | Acc: 97.55%\n",
            "-------------------------\n",
            "No improvement for 1/5 epochs\n",
            "Epoch 13/15\n",
            "Train Loss: 0.0354 | Acc: 97.42%\n",
            "Test Loss: 0.0526 | Acc: 97.34%\n",
            "-------------------------\n",
            "No improvement for 2/5 epochs\n",
            "Epoch 14/15\n",
            "Train Loss: 0.0351 | Acc: 97.48%\n",
            "Test Loss: 0.0533 | Acc: 97.76%\n",
            "-------------------------\n",
            "No improvement for 3/5 epochs\n",
            "Epoch 15/15\n",
            "Train Loss: 0.0346 | Acc: 97.51%\n",
            "Test Loss: 0.0640 | Acc: 97.68%\n",
            "-------------------------\n"
          ]
        },
        {
          "output_type": "display_data",
          "data": {
            "text/plain": [
              "<Figure size 1000x500 with 1 Axes>"
            ],
            "image/png": "[encoded data removed]"
          },
          "metadata": {}
        }
      ],
      "source": [
        "# --------------------------\n",
        "# 5. Training Setup\n",
        "# --------------------------\n",
        "class_weights = torch.tensor([\n",
        "    1.0,   # Benign (0)        → 1.6M samples (low weight)\n",
        "    150.0,  # Botnet ARES (1)  → 1.5k samples (high weight)\n",
        "    5.0,   # Brute Force (2)  → 6.8k samples\n",
        "    1.5,   # Dos/DDoS (3)     → 256k samples\n",
        "    3.0,   # PortScan (4)     → 45k samples\n",
        "    200.0  # Web Attack (5)   → 1.5k samples (highest weight)\n",
        "]).to(device)\n",
        "\n",
        "criterion = FocalLoss(weight=class_weights, gamma=2.0)\n",
        "optimizer = optim.AdamW(model.parameters(), lr=0.001, weight_decay=1e-3)\n",
        "\n",
        "# Add learning rate scheduler\n",
        "scheduler = optim.lr_scheduler.ReduceLROnPlateau(\n",
        "    optimizer,\n",
        "    mode='min',\n",
        "    factor=0.5,\n",
        "    patience=2\n",
        ")\n",
        "\n",
        "# --------------------------\n",
        "# 6. Training Loop\n",
        "# --------------------------\n",
        "# Modify your training loop to track losses\n",
        "train_losses = []\n",
        "test_losses = []\n",
        "num_epochs = 30\n",
        "best_test_loss = float('inf')\n",
        "patience = 5  # Stop after 5 epochs without improvement\n",
        "counter = 0\n",
        "\n",
        "num_epochs = 15  # Keep your original epoch count\n",
        "\n",
        "for epoch in range(num_epochs):\n",
        "    # Training phase\n",
        "    model.train()\n",
        "    epoch_train_loss = 0\n",
        "    correct = 0\n",
        "\n",
        "    for inputs, labels in train_loader:\n",
        "        optimizer.zero_grad()\n",
        "        outputs = model(inputs)\n",
        "        loss = criterion(outputs, labels)\n",
        "        loss.backward()\n",
        "        optimizer.step()\n",
        "\n",
        "        epoch_train_loss += loss.item()\n",
        "        _, predicted = torch.max(outputs.data, 1)\n",
        "        correct += (predicted == labels).sum().item()\n",
        "\n",
        "    # Calculate average training loss for the epoch\n",
        "    avg_train_loss = epoch_train_loss / len(train_loader)\n",
        "    train_losses.append(avg_train_loss)\n",
        "\n",
        "    # Testing phase\n",
        "    model.eval()\n",
        "    epoch_test_loss = 0\n",
        "    test_correct = 0\n",
        "\n",
        "    with torch.no_grad():\n",
        "        for inputs, labels in test_loader:\n",
        "            outputs = model(inputs)\n",
        "            loss = criterion(outputs, labels)\n",
        "            epoch_test_loss += loss.item()\n",
        "            _, predicted = torch.max(outputs.data, 1)\n",
        "            test_correct += (predicted == labels).sum().item()\n",
        "\n",
        "    # Calculate average test loss for the epoch\n",
        "    avg_test_loss = epoch_test_loss / len(test_loader)\n",
        "    scheduler.step(avg_test_loss)  # Update learning rate\n",
        "    test_losses.append(avg_test_loss)\n",
        "\n",
        "    # --- Early Stopping Check ---\n",
        "    if avg_test_loss < best_test_loss:\n",
        "        best_test_loss = avg_test_loss\n",
        "        counter = 0  # Reset counter if test loss improves\n",
        "        # Optional: Save best model weights\n",
        "        torch.save(model.state_dict(), 'best_model.pth')\n",
        "    else:\n",
        "        counter += 1\n",
        "        print(f\"No improvement for {counter}/{patience} epochs\")\n",
        "\n",
        "    # --- Early Stopping Trigger ---\n",
        "    if counter >= patience:\n",
        "        print(f\"Early stopping at epoch {epoch+1}\")\n",
        "        break\n",
        "\n",
        "    # Print statistics\n",
        "    train_acc = 100 * correct / len(train_dataset)\n",
        "    test_acc = 100 * test_correct / len(test_dataset)\n",
        "\n",
        "    print(f\"Epoch {epoch+1}/{num_epochs}\")\n",
        "    print(f\"Train Loss: {avg_train_loss:.4f} | Acc: {train_acc:.2f}%\")\n",
        "    print(f\"Test Loss: {avg_test_loss:.4f} | Acc: {test_acc:.2f}%\")\n",
        "    print(\"-------------------------\")\n",
        "\n",
        "# Plot the loss curves\n",
        "plt.figure(figsize=(10, 5))\n",
        "plt.plot(\n",
        "    range(1, len(train_losses)+1),  # Dynamic x-axis\n",
        "    train_losses,\n",
        "    label='Training Loss'\n",
        ")\n",
        "plt.plot(\n",
        "    range(1, len(test_losses)+1),  # Dynamic x-axis\n",
        "    test_losses,\n",
        "    label='Test Loss'\n",
        ")\n",
        "plt.title('Training and Test Loss Curves')\n",
        "plt.xlabel('Epochs')\n",
        "plt.ylabel('Loss')\n",
        "plt.legend()\n",
        "plt.grid(True)\n",
        "plt.show()"
      ]
    },
    {
      "cell_type": "code",
      "execution_count": 14,
      "metadata": {
        "id": "3i0AlcItH6Cd",
        "colab": {
          "base_uri": "https://localhost:8080/"
        },
        "outputId": "9a684995-a719-453e-b3d3-4c82b6865559"
      },
      "outputs": [
        {
          "output_type": "stream",
          "name": "stdout",
          "text": [
            "Classification Report:\n",
            "              precision    recall  f1-score   support\n",
            "\n",
            "      Benign       1.00      0.97      0.99    429380\n",
            " Botnet ARES       0.08      1.00      0.14       390\n",
            " Brute Force       0.89      0.99      0.94      1837\n",
            "    Dos/DDoS       1.00      0.99      0.99     64352\n",
            "    PortScan       0.75      1.00      0.85     18139\n",
            "  Web Attack       1.00      0.50      0.67         2\n",
            "\n",
            "    accuracy                           0.98    514100\n",
            "   macro avg       0.78      0.91      0.76    514100\n",
            "weighted avg       0.99      0.98      0.98    514100\n",
            "\n"
          ]
        }
      ],
      "source": [
        "# --------------------------\n",
        "# 7. Evaluation\n",
        "# --------------------------\n",
        "from sklearn.metrics import classification_report\n",
        "\n",
        "model.eval()\n",
        "all_preds = []\n",
        "all_labels = []\n",
        "\n",
        "with torch.no_grad():\n",
        "    for inputs, labels in test_loader:\n",
        "        outputs = model(inputs)\n",
        "        _, preds = torch.max(outputs, 1)\n",
        "        all_preds.extend(preds.cpu().numpy())\n",
        "        all_labels.extend(labels.cpu().numpy())\n",
        "\n",
        "print(\"Classification Report:\")\n",
        "print(classification_report(all_labels, all_preds, target_names=le.classes_))"
      ]
    },
    {
      "cell_type": "code",
      "execution_count": 14,
      "metadata": {
        "id": "JGs-QPh3InrR"
      },
      "outputs": [],
      "source": []
    }
  ],
  "metadata": {
    "accelerator": "GPU",
    "colab": {
      "gpuType": "T4",
      "provenance": []
    },
    "kernelspec": {
      "display_name": "Python 3",
      "name": "python3"
    },
    "language_info": {
      "name": "python"
    }
  },
  "nbformat": 4,
  "nbformat_minor": 0
}